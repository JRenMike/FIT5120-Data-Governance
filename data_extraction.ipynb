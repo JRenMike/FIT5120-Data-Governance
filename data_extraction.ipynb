{
 "cells": [
  {
   "cell_type": "code",
   "execution_count": 1,
   "metadata": {},
   "outputs": [],
   "source": [
    "import pandas as pd\n",
    "import requests"
   ]
  },
  {
   "cell_type": "code",
   "execution_count": null,
   "metadata": {},
   "outputs": [],
   "source": [
    "#download data\n",
    "link = 'https://assets.sustainability.vic.gov.au/susvic/Workbook-Waste-Local-Government-Waste-Services-Workbook-2019-20.xlsx'\n",
    "r = requests.get(link, allow_redirects=True)\n",
    "with open(\"Waste-Services-Workbook-2019-20.xlsx\",'wb') as f:\n",
    "    f.write(r.content)"
   ]
  },
  {
   "cell_type": "code",
   "execution_count": 57,
   "metadata": {},
   "outputs": [],
   "source": [
    "#download data\n",
    "national_waste_db = 'https://www.dcceew.gov.au/sites/default/files/documents/national-waste-database-2022.xlsx'\n",
    "r = requests.get(national_waste_db, allow_redirects=True)\n",
    "with open(\"national_waste_2022.xlsx\",'wb') as f:\n",
    "    f.write(r.content)\n",
    "national_waste_db = pd.read_excel('national_waste_2022.xlsx', 'Database 2022', usecols = \"A,B,C,H,I,J\")"
   ]
  },
  {
   "cell_type": "code",
   "execution_count": 62,
   "metadata": {},
   "outputs": [],
   "source": [
    "organics = pd.read_excel('Waste-Services-Workbook-2019-20.xlsx', 'Organics', header = None)\n",
    "Garbage = pd.read_excel('Waste-Services-Workbook-2019-20.xlsx', 'Garbage', header = None)\n",
    "Recyclables = pd.read_excel('Waste-Services-Workbook-2019-20.xlsx', 'Recyclables', usecols='A:I', header = None)\n",
    "Organics = pd.read_excel('Waste-Services-Workbook-2019-20.xlsx', 'Organics', header = None)"
   ]
  },
  {
   "cell_type": "code",
   "execution_count": 38,
   "metadata": {},
   "outputs": [],
   "source": [
    "Contamination_rate_table = Recyclables.iloc[29:48]\n",
    "Contamination_rate_table = Contamination_rate_table[[0,1]]\n",
    "Contamination_rate_table.columns = ['year', 'Contamination_rate']\n",
    "i = 0\n",
    "for year in range(2001,2020,1):\n",
    "    Contamination_rate_table.year.iloc[i] = year\n",
    "    i = i +1"
   ]
  },
  {
   "cell_type": "code",
   "execution_count": 40,
   "metadata": {},
   "outputs": [
    {
     "data": {
      "text/html": [
       "<div>\n",
       "<style scoped>\n",
       "    .dataframe tbody tr th:only-of-type {\n",
       "        vertical-align: middle;\n",
       "    }\n",
       "\n",
       "    .dataframe tbody tr th {\n",
       "        vertical-align: top;\n",
       "    }\n",
       "\n",
       "    .dataframe thead th {\n",
       "        text-align: right;\n",
       "    }\n",
       "</style>\n",
       "<table border=\"1\" class=\"dataframe\">\n",
       "  <thead>\n",
       "    <tr style=\"text-align: right;\">\n",
       "      <th></th>\n",
       "      <th>year</th>\n",
       "      <th>Contamination_rate</th>\n",
       "    </tr>\n",
       "  </thead>\n",
       "  <tbody>\n",
       "    <tr>\n",
       "      <th>29</th>\n",
       "      <td>2001</td>\n",
       "      <td>7.6</td>\n",
       "    </tr>\n",
       "    <tr>\n",
       "      <th>30</th>\n",
       "      <td>2002</td>\n",
       "      <td>7.2</td>\n",
       "    </tr>\n",
       "    <tr>\n",
       "      <th>31</th>\n",
       "      <td>2003</td>\n",
       "      <td>10.1</td>\n",
       "    </tr>\n",
       "    <tr>\n",
       "      <th>32</th>\n",
       "      <td>2004</td>\n",
       "      <td>10.9</td>\n",
       "    </tr>\n",
       "    <tr>\n",
       "      <th>33</th>\n",
       "      <td>2005</td>\n",
       "      <td>11.5</td>\n",
       "    </tr>\n",
       "  </tbody>\n",
       "</table>\n",
       "</div>"
      ],
      "text/plain": [
       "    year Contamination_rate\n",
       "29  2001                7.6\n",
       "30  2002                7.2\n",
       "31  2003               10.1\n",
       "32  2004               10.9\n",
       "33  2005               11.5"
      ]
     },
     "execution_count": 40,
     "metadata": {},
     "output_type": "execute_result"
    }
   ],
   "source": [
    "Contamination_rate_table.head()"
   ]
  }
 ],
 "metadata": {
  "kernelspec": {
   "display_name": "base",
   "language": "python",
   "name": "python3"
  },
  "language_info": {
   "codemirror_mode": {
    "name": "ipython",
    "version": 3
   },
   "file_extension": ".py",
   "mimetype": "text/x-python",
   "name": "python",
   "nbconvert_exporter": "python",
   "pygments_lexer": "ipython3",
   "version": "3.8.8"
  },
  "orig_nbformat": 4
 },
 "nbformat": 4,
 "nbformat_minor": 2
}
